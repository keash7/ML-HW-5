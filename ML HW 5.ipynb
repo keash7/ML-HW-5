{
 "cells": [
  {
   "cell_type": "code",
   "execution_count": 2,
   "metadata": {},
   "outputs": [],
   "source": [
    "from sklearn.datasets import load_wine\n",
    "samples, labels = load_wine(return_X_y=True)"
   ]
  },
  {
   "cell_type": "code",
   "execution_count": 9,
   "metadata": {},
   "outputs": [
    {
     "data": {
      "text/plain": [
       "(178, 13)"
      ]
     },
     "execution_count": 9,
     "metadata": {},
     "output_type": "execute_result"
    }
   ],
   "source": [
    "samples.shape"
   ]
  },
  {
   "cell_type": "code",
   "execution_count": 10,
   "metadata": {},
   "outputs": [
    {
     "data": {
      "text/plain": [
       "(178,)"
      ]
     },
     "execution_count": 10,
     "metadata": {},
     "output_type": "execute_result"
    }
   ],
   "source": [
    "labels.shape"
   ]
  },
  {
   "cell_type": "markdown",
   "metadata": {},
   "source": [
    "Standardization of Data\n"
   ]
  },
  {
   "cell_type": "markdown",
   "metadata": {},
   "source": [
    "1."
   ]
  },
  {
   "cell_type": "code",
   "execution_count": 21,
   "metadata": {},
   "outputs": [],
   "source": [
    "import numpy as np\n",
    "from matplotlib import pyplot as plt\n",
    "\n",
    "X = samples.T # Data matrix\n"
   ]
  },
  {
   "cell_type": "code",
   "execution_count": 13,
   "metadata": {},
   "outputs": [],
   "source": [
    "mean_vec = X.mean(axis = 1)\n",
    "mean_mat = np.tile(mean_vec.reshape(X.shape[0],1),[1,X.shape[1]])\n",
    "\n",
    "centered_X = X - mean_mat"
   ]
  },
  {
   "cell_type": "markdown",
   "metadata": {},
   "source": [
    "Centered_x is the data centered so that each attribute has zero mean."
   ]
  },
  {
   "cell_type": "code",
   "execution_count": 40,
   "metadata": {},
   "outputs": [
    {
     "name": "stdout",
     "output_type": "stream",
     "text": [
      "[ 6.38690100e-15  3.59263181e-16 -1.11396535e-15 -1.59672525e-16\n",
      " -6.38690100e-16 -1.99590656e-17  9.97953281e-16 -6.98567296e-17\n",
      " -9.68014682e-16 -8.18321690e-16  3.89201779e-16  1.55680712e-15\n",
      " -1.22628499e-13]\n"
     ]
    }
   ],
   "source": [
    "new_mean=centered_X.mean(axis=1)\n",
    "print(new_mean)"
   ]
  },
  {
   "cell_type": "markdown",
   "metadata": {},
   "source": [
    "Computing the mean of centered_X verifies that each attribute has approximately zero mean."
   ]
  },
  {
   "cell_type": "markdown",
   "metadata": {},
   "source": [
    "2.\n"
   ]
  },
  {
   "cell_type": "code",
   "execution_count": 42,
   "metadata": {},
   "outputs": [
    {
     "name": "stdout",
     "output_type": "stream",
     "text": [
      "(2, 178)\n"
     ]
    },
    {
     "data": {
      "image/png": "[encoded data removed]",
      "text/plain": [
       "<Figure size 432x288 with 1 Axes>"
      ]
     },
     "metadata": {},
     "output_type": "display_data"
    }
   ],
   "source": [
    "U, s, Vh = np.linalg.svd(centered_X)\n",
    "\n",
    "U_2 = U[:,0:2]\n",
    "\n",
    "X_tilde = U_2.T@centered_X\n",
    "\n",
    "print(X_tilde.shape)\n",
    "\n",
    "for q in range (178):\n",
    "    if labels[q] ==0 :\n",
    "        plt.plot(X_tilde[0,q],X_tilde[1,q], 'rs')\n",
    "    elif labels[q] ==1 :\n",
    "        plt.plot(X_tilde[0,q],X_tilde[1,q], 'g^')\n",
    "    else:\n",
    "        plt.plot(X_tilde[0,q],X_tilde[1,q], 'bo')"
   ]
  },
  {
   "cell_type": "markdown",
   "metadata": {},
   "source": [
    "The scatterplot is shown above for the wine dataset after PCA has taken place.\n"
   ]
  },
  {
   "cell_type": "markdown",
   "metadata": {},
   "source": [
    "3."
   ]
  },
  {
   "cell_type": "code",
   "execution_count": 50,
   "metadata": {},
   "outputs": [],
   "source": [
    "var_vec = np.std(centered_X,axis = 1)\n",
    "var_mat = np.tile(var_vec.reshape(X.shape[0],1),[1,X.shape[1]])\n",
    "\n",
    "unit_var=np.divide(centered_X,var_mat) "
   ]
  },
  {
   "cell_type": "markdown",
   "metadata": {},
   "source": [
    "Unit_var is the centered wine dataset that is normalized with unit variance."
   ]
  },
  {
   "cell_type": "code",
   "execution_count": 52,
   "metadata": {},
   "outputs": [
    {
     "name": "stdout",
     "output_type": "stream",
     "text": [
      "[1. 1. 1. 1. 1. 1. 1. 1. 1. 1. 1. 1. 1.]\n"
     ]
    }
   ],
   "source": [
    "variance=np.std(unit_var,axis = 1)\n",
    "print(variance)"
   ]
  },
  {
   "cell_type": "markdown",
   "metadata": {},
   "source": [
    "Computing the variance of unit_var verifies that each attribute has unit variance."
   ]
  },
  {
   "cell_type": "markdown",
   "metadata": {},
   "source": [
    "4.\n"
   ]
  },
  {
   "cell_type": "code",
   "execution_count": 54,
   "metadata": {},
   "outputs": [
    {
     "name": "stdout",
     "output_type": "stream",
     "text": [
      "(2, 178)\n"
     ]
    },
    {
     "data": {
      "image/png": "[encoded data removed]",
      "text/plain": [
       "<Figure size 432x288 with 1 Axes>"
      ]
     },
     "metadata": {},
     "output_type": "display_data"
    }
   ],
   "source": [
    "U2, s2, Vh2 = np.linalg.svd(unit_var)\n",
    "\n",
    "U2_2 = U2[:,0:2]\n",
    "\n",
    "X_tilde2 = U2_2.T@centered_X\n",
    "\n",
    "print(X_tilde2.shape)\n",
    "\n",
    "for q in range (178):\n",
    "    if labels[q] ==0 :\n",
    "        plt.plot(X_tilde2[0,q],X_tilde2[1,q], 'rs')\n",
    "    elif labels[q] ==1 :\n",
    "        plt.plot(X_tilde2[0,q],X_tilde2[1,q], 'g^')\n",
    "    else:\n",
    "        plt.plot(X_tilde2[0,q],X_tilde2[1,q], 'bo')"
   ]
  },
  {
   "cell_type": "markdown",
   "metadata": {},
   "source": [
    "5.\n",
    "In my opinion, the PCA with centered and normalized data would lead to better classification performance.\n",
    "By normalizing the data to have unit variance, the data becomes less broad and makes it easier for the classifier to \n",
    "function properly. This is because the classifier can more clearly identify specific regions in which the data is \n",
    "seperated in.\n"
   ]
  },
  {
   "cell_type": "markdown",
   "metadata": {},
   "source": [
    "Naive Bayes Classification"
   ]
  },
  {
   "cell_type": "markdown",
   "metadata": {},
   "source": [
    "1."
   ]
  },
  {
   "cell_type": "code",
   "execution_count": 104,
   "metadata": {},
   "outputs": [],
   "source": [
    "fold1=X_tilde2[:,0:143]\n",
    "fold2=np.concatenate((X_tilde2[:,0:108],X_tilde2[:,143:178]),axis=1)\n",
    "fold3=np.concatenate((X_tilde2[:,0:72],X_tilde2[:,108:178]),axis=1)\n",
    "fold4=np.concatenate((X_tilde2[:,0:36],X_tilde2[:,72:178]),axis=1)\n",
    "fold5=X_tilde2[:,36:178]"
   ]
  },
  {
   "cell_type": "markdown",
   "metadata": {},
   "source": [
    "2."
   ]
  },
  {
   "cell_type": "markdown",
   "metadata": {},
   "source": [
    "Case 3"
   ]
  },
  {
   "cell_type": "code",
   "execution_count": 135,
   "metadata": {},
   "outputs": [],
   "source": [
    "from sklearn.naive_bayes import GaussianNB\n",
    "clf=GaussianNB()\n",
    "clf.fit(fold1.T,labels[0:143])\n",
    "c3_1=clf.predict(np.transpose(X_tilde2[:,143:178]))\n",
    "\n",
    "accuracy1=(c3_1-labels[143:178])"
   ]
  },
  {
   "cell_type": "code",
   "execution_count": 136,
   "metadata": {},
   "outputs": [],
   "source": [
    "clf.fit(fold2.T,np.concatenate((labels[0:108],labels[143:178]),axis=0))\n",
    "c3_2=clf.predict(np.transpose(X_tilde2[:,108:143]))\n",
    "accuracy2=c3_2-labels[108:143]\n",
    "\n",
    "clf.fit(fold3.T,np.concatenate((labels[0:72],labels[108:178]),axis=0))\n",
    "c3_3=clf.predict(np.transpose(X_tilde2[:,72:108]))\n",
    "accuracy3=c3_3-labels[72:108]\n",
    "        \n",
    "clf.fit(fold4.T,np.concatenate((labels[0:36],labels[72:178]),axis=0))\n",
    "c3_4=clf.predict(np.transpose(X_tilde2[:,36:72])) \n",
    "accuracy4=c3_4-labels[36:72]\n",
    "\n",
    "clf.fit(fold5.T,labels[36:178])\n",
    "c3_5=clf.predict(np.transpose(X_tilde2[:,0:36]))\n",
    "accuracy5=c3_5-labels[0:36]"
   ]
  },
  {
   "cell_type": "code",
   "execution_count": 146,
   "metadata": {},
   "outputs": [
    {
     "name": "stdout",
     "output_type": "stream",
     "text": [
      "57\n"
     ]
    }
   ],
   "source": [
    "incorrect3=np.count_nonzero(accuracy1)+np.count_nonzero(accuracy2)+np.count_nonzero(accuracy3)+np.count_nonzero(accuracy4)+np.count_nonzero(accuracy5)\n",
    "print(incorrect3);"
   ]
  },
  {
   "cell_type": "code",
   "execution_count": 147,
   "metadata": {},
   "outputs": [
    {
     "name": "stdout",
     "output_type": "stream",
     "text": [
      "0.6797752808988764\n"
     ]
    }
   ],
   "source": [
    "Accuracy_case3= (178-incorrect3)/178\n",
    "print(Accuracy_case3)"
   ]
  },
  {
   "cell_type": "markdown",
   "metadata": {},
   "source": [
    "Case 2"
   ]
  },
  {
   "cell_type": "code",
   "execution_count": 159,
   "metadata": {},
   "outputs": [],
   "source": [
    "from sklearn.naive_bayes import GaussianNB\n",
    "clf=GaussianNB()\n",
    "clf.fit(fold1.T,labels[0:143])\n",
    "c3_1=clf.predict(np.transpose(X_tilde2[:,143:178]))\n",
    "\n",
    "accuracy1=(c3_1-labels[143:178])"
   ]
  },
  {
   "cell_type": "code",
   "execution_count": 160,
   "metadata": {},
   "outputs": [],
   "source": [
    "clf.fit(fold2.T,np.concatenate((labels[0:108],labels[143:178]),axis=0))\n",
    "c3_2=clf.predict(np.transpose(X_tilde2[:,108:143]))\n",
    "accuracy2=c3_2-labels[108:143]\n",
    "\n",
    "clf.fit(fold3.T,np.concatenate((labels[0:72],labels[108:178]),axis=0))\n",
    "c3_3=clf.predict(np.transpose(X_tilde2[:,72:108]))\n",
    "accuracy3=c3_3-labels[72:108]\n",
    "        \n",
    "clf.fit(fold4.T,np.concatenate((labels[0:36],labels[72:178]),axis=0))\n",
    "c3_4=clf.predict(np.transpose(X_tilde2[:,36:72])) \n",
    "accuracy4=c3_4-labels[36:72]\n",
    "\n",
    "clf.fit(fold5.T,labels[36:178])\n",
    "c3_5=clf.predict(np.transpose(X_tilde2[:,0:36]))\n",
    "accuracy5=c3_5-labels[0:36]"
   ]
  },
  {
   "cell_type": "code",
   "execution_count": 162,
   "metadata": {},
   "outputs": [
    {
     "name": "stdout",
     "output_type": "stream",
     "text": [
      "57\n"
     ]
    }
   ],
   "source": [
    "incorrect2=np.count_nonzero(accuracy1)+np.count_nonzero(accuracy2)+np.count_nonzero(accuracy3)+np.count_nonzero(accuracy4)+np.count_nonzero(accuracy5)\n",
    "print(incorrect2);"
   ]
  },
  {
   "cell_type": "code",
   "execution_count": 163,
   "metadata": {},
   "outputs": [
    {
     "name": "stdout",
     "output_type": "stream",
     "text": [
      "0.6797752808988764\n"
     ]
    }
   ],
   "source": [
    "Accuracy_case2= (178-incorrect3)/178\n",
    "print(Accuracy_case2)"
   ]
  },
  {
   "cell_type": "markdown",
   "metadata": {},
   "source": [
    "Case 1"
   ]
  },
  {
   "cell_type": "code",
   "execution_count": 156,
   "metadata": {},
   "outputs": [
    {
     "name": "stdout",
     "output_type": "stream",
     "text": [
      "67\n"
     ]
    }
   ],
   "source": [
    "clf=GaussianNB()\n",
    "clf.fit(fold1.T,labels[0:143])\n",
    "c3_1=clf.predict(np.transpose(X_tilde[:,143:178]))\n",
    "accuracy1=(c3_1-labels[143:178])\n",
    "\n",
    "clf.fit(fold2.T,np.concatenate((labels[0:108],labels[143:178]),axis=0))\n",
    "c3_2=clf.predict(np.transpose(X_tilde[:,108:143]))\n",
    "accuracy2=c3_2-labels[108:143]\n",
    "\n",
    "clf.fit(fold3.T,np.concatenate((labels[0:72],labels[108:178]),axis=0))\n",
    "c3_3=clf.predict(np.transpose(X_tilde[:,72:108]))\n",
    "accuracy3=c3_3-labels[72:108]\n",
    "        \n",
    "clf.fit(fold4.T,np.concatenate((labels[0:36],labels[72:178]),axis=0))\n",
    "c3_4=clf.predict(np.transpose(X_tilde[:,36:72])) \n",
    "accuracy4=c3_4-labels[36:72]\n",
    "\n",
    "clf.fit(fold5.T,labels[36:178])\n",
    "c3_5=clf.predict(np.transpose(X_tilde[:,0:36]))\n",
    "accuracy5=c3_5-labels[0:36]\n",
    "\n",
    "incorrect1=np.count_nonzero(accuracy1)+np.count_nonzero(accuracy2)+np.count_nonzero(accuracy3)+np.count_nonzero(accuracy4)+np.count_nonzero(accuracy5)\n",
    "print(incorrect1);"
   ]
  },
  {
   "cell_type": "code",
   "execution_count": 158,
   "metadata": {},
   "outputs": [
    {
     "name": "stdout",
     "output_type": "stream",
     "text": [
      "0.6235955056179775\n"
     ]
    }
   ],
   "source": [
    "Accuracy_case1=(178-incorrect1)/178\n",
    "print(Accuracy_case1)"
   ]
  },
  {
   "cell_type": "markdown",
   "metadata": {},
   "source": [
    "3.\n"
   ]
  },
  {
   "cell_type": "markdown",
   "metadata": {},
   "source": [
    "The classification accuracy of Case 1 with only centered data is 62.36% The classification accuracy of Case 2 and 3 is 67.98% The accuracy of our classifier improved when we standardized the data to have unit variance 1. This enabled the classification algorithm to effectively classify the wines based on the training data since we removed variation among the data points."
   ]
  }
 ],
 "metadata": {
  "kernelspec": {
   "display_name": "Python 3",
   "language": "python",
   "name": "python3"
  },
  "language_info": {
   "codemirror_mode": {
    "name": "ipython",
    "version": 3
   },
   "file_extension": ".py",
   "mimetype": "text/x-python",
   "name": "python",
   "nbconvert_exporter": "python",
   "pygments_lexer": "ipython3",
   "version": "3.6.5"
  }
 },
 "nbformat": 4,
 "nbformat_minor": 2
}
